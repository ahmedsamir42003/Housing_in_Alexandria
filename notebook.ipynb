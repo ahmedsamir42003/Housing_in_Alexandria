{
 "cells": [
  {
   "cell_type": "markdown",
   "id": "e01d4072",
   "metadata": {},
   "source": [
    "# Alexandria house price"
   ]
  },
  {
   "cell_type": "markdown",
   "id": "73652c7e",
   "metadata": {},
   "source": [
    "  <img src=\"https://wallpapers.com/images/hd/alexandria-coast-in-egypt-ockcgyon6fzkjw2a.jpg\" alt=\"alexandria\" width=\"600\" height=\"500\">\n",
    "</div>"
   ]
  },
  {
   "cell_type": "markdown",
   "id": "2b98e42a",
   "metadata": {},
   "source": [
    "## import data\n"
   ]
  },
  {
   "cell_type": "code",
   "execution_count": 1330,
   "id": "b5bc97c3",
   "metadata": {},
   "outputs": [],
   "source": [
    "import pandas as pd\n",
    "import numpy as np\n",
    "import re\n",
    "import warnings \n",
    "warnings.filterwarnings('ignore')"
   ]
  },
  {
   "cell_type": "code",
   "execution_count": 1331,
   "id": "2f11f59c",
   "metadata": {},
   "outputs": [],
   "source": [
    "df=pd.read_csv('Egypt_Houses_Price.csv')"
   ]
  },
  {
   "cell_type": "code",
   "execution_count": 1332,
   "id": "497fa269",
   "metadata": {},
   "outputs": [
    {
     "data": {
      "text/html": [
       "<div>\n",
       "<style scoped>\n",
       "    .dataframe tbody tr th:only-of-type {\n",
       "        vertical-align: middle;\n",
       "    }\n",
       "\n",
       "    .dataframe tbody tr th {\n",
       "        vertical-align: top;\n",
       "    }\n",
       "\n",
       "    .dataframe thead th {\n",
       "        text-align: right;\n",
       "    }\n",
       "</style>\n",
       "<table border=\"1\" class=\"dataframe\">\n",
       "  <thead>\n",
       "    <tr style=\"text-align: right;\">\n",
       "      <th></th>\n",
       "      <th>Type</th>\n",
       "      <th>Price</th>\n",
       "      <th>Bedrooms</th>\n",
       "      <th>Bathrooms</th>\n",
       "      <th>Area</th>\n",
       "      <th>Furnished</th>\n",
       "      <th>Level</th>\n",
       "      <th>Compound</th>\n",
       "      <th>Payment_Option</th>\n",
       "      <th>Delivery_Date</th>\n",
       "      <th>Delivery_Term</th>\n",
       "      <th>City</th>\n",
       "    </tr>\n",
       "  </thead>\n",
       "  <tbody>\n",
       "    <tr>\n",
       "      <th>0</th>\n",
       "      <td>Duplex</td>\n",
       "      <td>4000000</td>\n",
       "      <td>3.0</td>\n",
       "      <td>3.0</td>\n",
       "      <td>400.0</td>\n",
       "      <td>No</td>\n",
       "      <td>7</td>\n",
       "      <td>Unknown</td>\n",
       "      <td>Cash</td>\n",
       "      <td>Ready to move</td>\n",
       "      <td>Finished</td>\n",
       "      <td>Nasr City</td>\n",
       "    </tr>\n",
       "    <tr>\n",
       "      <th>1</th>\n",
       "      <td>Apartment</td>\n",
       "      <td>4000000</td>\n",
       "      <td>3.0</td>\n",
       "      <td>3.0</td>\n",
       "      <td>160.0</td>\n",
       "      <td>No</td>\n",
       "      <td>10+</td>\n",
       "      <td>Unknown</td>\n",
       "      <td>Cash</td>\n",
       "      <td>Ready to move</td>\n",
       "      <td>Finished</td>\n",
       "      <td>Camp Caesar</td>\n",
       "    </tr>\n",
       "    <tr>\n",
       "      <th>2</th>\n",
       "      <td>Apartment</td>\n",
       "      <td>2250000</td>\n",
       "      <td>3.0</td>\n",
       "      <td>2.0</td>\n",
       "      <td>165.0</td>\n",
       "      <td>No</td>\n",
       "      <td>1</td>\n",
       "      <td>Unknown</td>\n",
       "      <td>Cash</td>\n",
       "      <td>Ready to move</td>\n",
       "      <td>Finished</td>\n",
       "      <td>Smoha</td>\n",
       "    </tr>\n",
       "    <tr>\n",
       "      <th>3</th>\n",
       "      <td>Apartment</td>\n",
       "      <td>1900000</td>\n",
       "      <td>3.0</td>\n",
       "      <td>2.0</td>\n",
       "      <td>230.0</td>\n",
       "      <td>No</td>\n",
       "      <td>10</td>\n",
       "      <td>Unknown</td>\n",
       "      <td>Cash</td>\n",
       "      <td>Ready to move</td>\n",
       "      <td>Finished</td>\n",
       "      <td>Nasr City</td>\n",
       "    </tr>\n",
       "    <tr>\n",
       "      <th>4</th>\n",
       "      <td>Apartment</td>\n",
       "      <td>5800000</td>\n",
       "      <td>2.0</td>\n",
       "      <td>3.0</td>\n",
       "      <td>160.0</td>\n",
       "      <td>No</td>\n",
       "      <td>Ground</td>\n",
       "      <td>Eastown</td>\n",
       "      <td>Cash</td>\n",
       "      <td>Ready to move</td>\n",
       "      <td>Semi Finished</td>\n",
       "      <td>New Cairo - El Tagamoa</td>\n",
       "    </tr>\n",
       "  </tbody>\n",
       "</table>\n",
       "</div>"
      ],
      "text/plain": [
       "        Type    Price Bedrooms Bathrooms   Area Furnished   Level Compound  \\\n",
       "0     Duplex  4000000      3.0       3.0  400.0        No       7  Unknown   \n",
       "1  Apartment  4000000      3.0       3.0  160.0        No     10+  Unknown   \n",
       "2  Apartment  2250000      3.0       2.0  165.0        No       1  Unknown   \n",
       "3  Apartment  1900000      3.0       2.0  230.0        No      10  Unknown   \n",
       "4  Apartment  5800000      2.0       3.0  160.0        No  Ground  Eastown   \n",
       "\n",
       "  Payment_Option  Delivery_Date  Delivery_Term                    City  \n",
       "0           Cash  Ready to move       Finished               Nasr City  \n",
       "1           Cash  Ready to move       Finished             Camp Caesar  \n",
       "2           Cash  Ready to move       Finished                   Smoha  \n",
       "3           Cash  Ready to move       Finished               Nasr City  \n",
       "4           Cash  Ready to move  Semi Finished  New Cairo - El Tagamoa  "
      ]
     },
     "execution_count": 1332,
     "metadata": {},
     "output_type": "execute_result"
    }
   ],
   "source": [
    "df.head()"
   ]
  },
  {
   "cell_type": "code",
   "execution_count": 1333,
   "id": "026304c2",
   "metadata": {},
   "outputs": [
    {
     "data": {
      "text/plain": [
       "Index(['Type', 'Price', 'Bedrooms', 'Bathrooms', 'Area', 'Furnished', 'Level',\n",
       "       'Compound', 'Payment_Option', 'Delivery_Date', 'Delivery_Term', 'City'],\n",
       "      dtype='object')"
      ]
     },
     "execution_count": 1333,
     "metadata": {},
     "output_type": "execute_result"
    }
   ],
   "source": [
    "df.columns"
   ]
  },
  {
   "cell_type": "markdown",
   "id": "7b6ce77e",
   "metadata": {},
   "source": [
    "## choose Alexandria neighborhoods only"
   ]
  },
  {
   "cell_type": "code",
   "execution_count": 1334,
   "id": "7ef93c7e",
   "metadata": {},
   "outputs": [],
   "source": [
    "from fuzzywuzzy import fuzz\n",
    "from fuzzywuzzy import process"
   ]
  },
  {
   "cell_type": "code",
   "execution_count": 1335,
   "id": "0c0f5680",
   "metadata": {},
   "outputs": [
    {
     "data": {
      "text/plain": [
       "183"
      ]
     },
     "execution_count": 1335,
     "metadata": {},
     "output_type": "execute_result"
    }
   ],
   "source": [
    "df['City'].nunique()"
   ]
  },
  {
   "cell_type": "code",
   "execution_count": 1336,
   "id": "f2b082bf",
   "metadata": {},
   "outputs": [
    {
     "data": {
      "text/plain": [
       "array(['Nasr City', 'Camp Caesar', 'Smoha', 'New Cairo - El Tagamoa',\n",
       "       'Sheikh Zayed', 'Shorouk City', 'Sidi Beshr', 'Gesr Al Suez',\n",
       "       'Mokattam', 'New Capital City', 'New Damietta', 'Zahraa Al Maadi',\n",
       "       '6th of October', 'Mansura', 'New Heliopolis',\n",
       "       'Kafr al-Sheikh City', 'Badr City', 'Sporting', 'Imbaba', 'Gamasa',\n",
       "       'Borg al-Arab', 'Mohandessin', 'Glim', 'Ain Sukhna', 'Abasiya',\n",
       "       'Fleming', 'Maadi', 'Hadayek 6th of October', 'Madinaty', 'Haram',\n",
       "       'Damietta City', 'Ismailia City', '10th of Ramadan', 'Heliopolis',\n",
       "       'Rehab City', 'Dar al-Salaam', 'Hadayek al-Ahram', 'North Coast',\n",
       "       'Nakheel', 'Bacchus', 'Obour City', 'Hurghada', 'Agouza', 'Tanta',\n",
       "       'Tura', 'Faisal District', 'Mandara', 'Helmeyat El Zaytoun',\n",
       "       'Katameya', 'Only in Apartments & Duplex for Sale', 'Alamein',\n",
       "       'Qasr al-Nil', 'Miami', 'Hadayek al-Kobba', 'Tersa',\n",
       "       'Mostakbal City', 'Agami', 'Ras al-Bar', 'Port Fouad',\n",
       "       'Salam City', 'Aswan City', 'Helwan', 'Bolkly', '15 May City',\n",
       "       'Maamoura', 'Seyouf', 'Sharq District', 'Ain Shams', 'Sidi Gaber',\n",
       "       'Shubra al-Khaimah', 'Laurent', 'Manakh District',\n",
       "       'Al Ibrahimiyyah', 'Cleopatra', 'Talkha', 'New Nozha',\n",
       "       'New Mansoura', 'Manshiyya', 'Dokki', 'Suez District', 'Sheraton',\n",
       "       'Matareya', 'Faisal', 'Roushdy', 'Al Hadrah', 'Zagazig',\n",
       "       'Moharam Bik', 'San Stefano', 'Bahray - Anfoshy', 'Al Manial',\n",
       "       'Sahl Hasheesh', 'West Somid', 'Gianaclis', 'Asafra',\n",
       "       'Garden City', 'Gouna', 'Zamalek', 'Minya City', 'Shubra',\n",
       "       'Marsa Matrouh', 'Giza District', 'Almazah', 'Saba Pasha',\n",
       "       'Kafr Abdo', 'Asyut City', 'Rod al-Farag', 'Azarita', 'Boulaq',\n",
       "       'Sayeda Zeinab', 'Montazah', 'Zezenia', 'Shatby', 'Markaz Sohag',\n",
       "       'El Fostat', 'Ezbet El Nakhl', 'Downtown Cairo',\n",
       "       'Mahalla al-Kobra', 'Warraq', 'Kit Kat', 'Boulaq Dakrour',\n",
       "       'Mit Ghamr', 'Beni Suef City', 'Maryotaya', 'Schutz', 'Khanka',\n",
       "       'Stanley', 'Zohour District', 'Al Amiriyyah', 'Dhahria',\n",
       "       'Hadayek Helwan', 'Damanhour', 'Amreya', 'Masr al-Kadema',\n",
       "       'Dawahy District', 'Shebin al-Koum', 'Qena City', 'Sharabeya',\n",
       "       'Minya al-Qamh', 'Abu Talat', 'Sharm al-Sheikh', 'Banha', 'Hammam',\n",
       "       'Awayed', 'Gomrok', 'Arab District', 'Manzala', 'New Beni Suef',\n",
       "       'Kafr al-Dawwar', 'Qalyub', 'Raml Station', 'Arbaeen',\n",
       "       'Darb al-Ahmar', 'Abu Qir', 'Quesna', 'Ard El Lewa', 'Safaga',\n",
       "       'Victoria', 'Attarin', 'Saft El Laban', 'About EMPG', 'El Max',\n",
       "       'Zawya al-Hamra', 'Attaka', 'Ramses + Ramses Extension', 'Khosous',\n",
       "       'Markaz al-Giza', 'Ras Sedr', 'Fayed', 'Dabaa',\n",
       "       'Only in Vacation Homes for Sale', 'Ganoub District', 'Sadat',\n",
       "       'Aga', '(View phone number)', 'Ataba', 'Only in Villas For Sale',\n",
       "       'Mansuriyya', 'New Minya', 'Kabbary', 'Qanater al-Khairia',\n",
       "       'Bella', 'Kafr Shukr', 'Abu Rawash'], dtype=object)"
      ]
     },
     "execution_count": 1336,
     "metadata": {},
     "output_type": "execute_result"
    }
   ],
   "source": [
    "df['City'].unique()"
   ]
  },
  {
   "cell_type": "code",
   "execution_count": 1337,
   "id": "fae5f3db",
   "metadata": {},
   "outputs": [],
   "source": [
    "df['City']=df.City.str.lower()"
   ]
  },
  {
   "cell_type": "code",
   "execution_count": 1338,
   "id": "99d559bb",
   "metadata": {},
   "outputs": [],
   "source": [
    "df['City']=df.City.str.replace(r'\\W','')"
   ]
  },
  {
   "cell_type": "code",
   "execution_count": 1339,
   "id": "a9fcef10",
   "metadata": {},
   "outputs": [],
   "source": [
    "city_data=df['City'].unique()"
   ]
  },
  {
   "cell_type": "code",
   "execution_count": 1340,
   "id": "f3a4bd1a",
   "metadata": {},
   "outputs": [],
   "source": [
    "\n",
    "#neighborhoods in Alexandria in September 2021\n",
    "\n",
    "target_data =pd.DataFrame( [\n",
    "    \"Al Hadrah Qebli\",\n",
    "    \"Amreya\",\n",
    "    \"Anfoushi\",\n",
    "    \"Asafra\",\n",
    "    'Agami',\n",
    "    \"Azarita\",\n",
    "    \"Bahary\",\n",
    "    \"Bakos\",\n",
    "    \"Baucalis\",\n",
    "    \"Bolkly\",\n",
    "    \"Camp Chezar\",\n",
    "    \"Cleopatra \",\n",
    "    \"Dekhela\",\n",
    "    \"Downtown, Alexandria\",\n",
    "    \"El Atareen\",\n",
    "    \"El Gomrok\",\n",
    "    \"El Ibrahimiya \",\n",
    "    \"El Labban\",\n",
    "    \"El Maamora Beach\",\n",
    "    \"El Maamora\",\n",
    "    \"El Mandara\",\n",
    "    \"El Manshiyya\",\n",
    "    \"El Max\",\n",
    "    \"El Qabary\",\n",
    "    \"El Saraya \",\n",
    "    \"El Soyof\",\n",
    "    \"Fleming \",\n",
    "    \"Gianaclis\",\n",
    "    \"Glim\",\n",
    "    \"Kafr Abdu\",\n",
    "    \"Karmoz\",\n",
    "    \"Kom El Deka\",\n",
    "    \"Louran \",\n",
    "    \"Mahatet El Raml\",\n",
    "    'Raml Station',\n",
    "    \"Miami\",\n",
    "    \"Moharam Bek\",\n",
    "    \"Montaza\",\n",
    "    \"Roshdy\",\n",
    "    \"Saba Pasha\",\n",
    "    \"Safar\",\n",
    "    \"San Stefano \",\n",
    "    \"Shatby\",\n",
    "    \"Shods\",\n",
    "    \"Sidi Bishr\",\n",
    "    \"Sidi Gaber\",\n",
    "    \"Smouha\",\n",
    "    \"Sporting \",\n",
    "    \"Stanley \",\n",
    "    \"Tharwat\",\n",
    "    \"Victoria\",\n",
    "    \"Wardeyan\",\n",
    "    \"Zezenia\"\n",
    "] )"
   ]
  },
  {
   "cell_type": "code",
   "execution_count": 1341,
   "id": "cfd69928",
   "metadata": {},
   "outputs": [],
   "source": [
    "target_data=target_data[0].str.lower()"
   ]
  },
  {
   "cell_type": "code",
   "execution_count": 1342,
   "id": "4b25a24a",
   "metadata": {},
   "outputs": [],
   "source": [
    "target_data=target_data.str.replace(r'\\W','')"
   ]
  },
  {
   "cell_type": "code",
   "execution_count": 1343,
   "id": "d5f500ee",
   "metadata": {},
   "outputs": [],
   "source": [
    "target_data=list(target_data)\n",
    "city_data=list(city_data)"
   ]
  },
  {
   "cell_type": "markdown",
   "id": "a0b7c8e7",
   "metadata": {},
   "source": [
    "#### there might be spelling mistakes in the original 182 names, so we will use approximate string matching techniques to find the closest matches. One popular library in Python for this purpose is fuzzywuzzy."
   ]
  },
  {
   "cell_type": "code",
   "execution_count": 1344,
   "id": "ae36f135",
   "metadata": {},
   "outputs": [
    {
     "name": "stdout",
     "output_type": "stream",
     "text": [
      "Target Neighborhood: alhadrahqebli\n",
      "Best Match: alhadrah\n",
      "Similarity Score: 90\n",
      "\n",
      "Target Neighborhood: amreya\n",
      "Best Match: amreya\n",
      "Similarity Score: 100\n",
      "\n",
      "Target Neighborhood: anfoushi\n",
      "Best Match: bahrayanfoshy\n",
      "Similarity Score: 72\n",
      "\n",
      "Target Neighborhood: asafra\n",
      "Best Match: asafra\n",
      "Similarity Score: 100\n",
      "\n",
      "Target Neighborhood: agami\n",
      "Best Match: agami\n",
      "Similarity Score: 100\n",
      "\n",
      "Target Neighborhood: azarita\n",
      "Best Match: azarita\n",
      "Similarity Score: 100\n",
      "\n",
      "Target Neighborhood: bahary\n",
      "Best Match: bahrayanfoshy\n",
      "Similarity Score: 75\n",
      "\n",
      "Target Neighborhood: bakos\n",
      "Best Match: hadayekalkobba\n",
      "Similarity Score: 54\n",
      "\n",
      "Target Neighborhood: baucalis\n",
      "Best Match: gianaclis\n",
      "Similarity Score: 59\n",
      "\n",
      "Target Neighborhood: bolkly\n",
      "Best Match: bolkly\n",
      "Similarity Score: 100\n",
      "\n",
      "Target Neighborhood: campchezar\n",
      "Best Match: campcaesar\n",
      "Similarity Score: 80\n",
      "\n",
      "Target Neighborhood: cleopatra\n",
      "Best Match: cleopatra\n",
      "Similarity Score: 100\n",
      "\n",
      "Target Neighborhood: dekhela\n",
      "Best Match: hadayekhelwan\n",
      "Similarity Score: 77\n",
      "\n",
      "Target Neighborhood: downtownalexandria\n",
      "Best Match: downtowncairo\n",
      "Similarity Score: 65\n",
      "\n",
      "Target Neighborhood: elatareen\n",
      "Best Match: laurent\n",
      "Similarity Score: 62\n",
      "\n",
      "Target Neighborhood: elgomrok\n",
      "Best Match: gomrok\n",
      "Similarity Score: 86\n",
      "\n",
      "Target Neighborhood: elibrahimiya\n",
      "Best Match: alibrahimiyyah\n",
      "Similarity Score: 85\n",
      "\n",
      "Target Neighborhood: ellabban\n",
      "Best Match: saftellaban\n",
      "Similarity Score: 74\n",
      "\n",
      "Target Neighborhood: elmaamorabeach\n",
      "Best Match: maamoura\n",
      "Similarity Score: 79\n",
      "\n",
      "Target Neighborhood: elmaamora\n",
      "Best Match: maamoura\n",
      "Similarity Score: 82\n",
      "\n",
      "Target Neighborhood: elmandara\n",
      "Best Match: mandara\n",
      "Similarity Score: 88\n",
      "\n",
      "Target Neighborhood: elmanshiyya\n",
      "Best Match: manshiyya\n",
      "Similarity Score: 90\n",
      "\n",
      "Target Neighborhood: elmax\n",
      "Best Match: elmax\n",
      "Similarity Score: 100\n",
      "\n",
      "Target Neighborhood: elqabary\n",
      "Best Match: kabbary\n",
      "Similarity Score: 67\n",
      "\n",
      "Target Neighborhood: elsaraya\n",
      "Best Match: sharabeya\n",
      "Similarity Score: 71\n",
      "\n",
      "Target Neighborhood: elsoyof\n",
      "Best Match: seyouf\n",
      "Similarity Score: 62\n",
      "\n",
      "Target Neighborhood: fleming\n",
      "Best Match: fleming\n",
      "Similarity Score: 100\n",
      "\n",
      "Target Neighborhood: gianaclis\n",
      "Best Match: gianaclis\n",
      "Similarity Score: 100\n",
      "\n",
      "Target Neighborhood: glim\n",
      "Best Match: glim\n",
      "Similarity Score: 100\n",
      "\n",
      "Target Neighborhood: kafrabdu\n",
      "Best Match: kafrabdo\n",
      "Similarity Score: 88\n",
      "\n",
      "Target Neighborhood: karmoz\n",
      "Best Match: kafrabdo\n",
      "Similarity Score: 57\n",
      "\n",
      "Target Neighborhood: komeldeka\n",
      "Best Match: talkha\n",
      "Similarity Score: 50\n",
      "\n",
      "Target Neighborhood: louran\n",
      "Best Match: tura\n",
      "Similarity Score: 68\n",
      "\n",
      "Target Neighborhood: mahatetelraml\n",
      "Best Match: aga\n",
      "Similarity Score: 60\n",
      "\n",
      "Target Neighborhood: ramlstation\n",
      "Best Match: ramlstation\n",
      "Similarity Score: 100\n",
      "\n",
      "Target Neighborhood: miami\n",
      "Best Match: miami\n",
      "Similarity Score: 100\n",
      "\n",
      "Target Neighborhood: moharambek\n",
      "Best Match: haram\n",
      "Similarity Score: 90\n",
      "\n",
      "Target Neighborhood: montaza\n",
      "Best Match: montazah\n",
      "Similarity Score: 93\n",
      "\n",
      "Target Neighborhood: roshdy\n",
      "Best Match: roushdy\n",
      "Similarity Score: 92\n",
      "\n",
      "Target Neighborhood: sabapasha\n",
      "Best Match: sabapasha\n",
      "Similarity Score: 100\n",
      "\n",
      "Target Neighborhood: safar\n",
      "Best Match: asafra\n",
      "Similarity Score: 73\n",
      "\n",
      "Target Neighborhood: sanstefano\n",
      "Best Match: sanstefano\n",
      "Similarity Score: 100\n",
      "\n",
      "Target Neighborhood: shatby\n",
      "Best Match: shatby\n",
      "Similarity Score: 100\n",
      "\n",
      "Target Neighborhood: shods\n",
      "Best Match: shoroukcity\n",
      "Similarity Score: 54\n",
      "\n",
      "Target Neighborhood: sidibishr\n",
      "Best Match: sidibeshr\n",
      "Similarity Score: 89\n",
      "\n",
      "Target Neighborhood: sidigaber\n",
      "Best Match: sidigaber\n",
      "Similarity Score: 100\n",
      "\n",
      "Target Neighborhood: smouha\n",
      "Best Match: smoha\n",
      "Similarity Score: 91\n",
      "\n",
      "Target Neighborhood: sporting\n",
      "Best Match: sporting\n",
      "Similarity Score: 100\n",
      "\n",
      "Target Neighborhood: stanley\n",
      "Best Match: stanley\n",
      "Similarity Score: 100\n",
      "\n",
      "Target Neighborhood: tharwat\n",
      "Best Match: haram\n",
      "Similarity Score: 67\n",
      "\n",
      "Target Neighborhood: victoria\n",
      "Best Match: victoria\n",
      "Similarity Score: 100\n",
      "\n",
      "Target Neighborhood: wardeyan\n",
      "Best Match: amreya\n",
      "Similarity Score: 71\n",
      "\n",
      "Target Neighborhood: zezenia\n",
      "Best Match: zezenia\n",
      "Similarity Score: 100\n",
      "\n"
     ]
    }
   ],
   "source": [
    "match=[]\n",
    "for target in target_data:\n",
    "    bestmatch=process.extractOne(target,city_data)\n",
    "    matched_neighborhood = bestmatch[0]\n",
    "    similarity_score = bestmatch[1]\n",
    "    print(f\"Target Neighborhood: {target}\")\n",
    "    print(f\"Best Match: {matched_neighborhood}\")\n",
    "    print(f\"Similarity Score: {similarity_score}\\n\")\n",
    "    match.append(matched_neighborhood)"
   ]
  },
  {
   "cell_type": "code",
   "execution_count": 1345,
   "id": "e5300cdc",
   "metadata": {},
   "outputs": [],
   "source": [
    "re={'gianaclis','hadayekhelwan','downtowncairo','saftellaban','sharabeya','zamalek','tura','tersa','haram','shoroukcity'}\n",
    "match=list(set(match)-re)"
   ]
  },
  {
   "cell_type": "code",
   "execution_count": 1346,
   "id": "3defa4fc",
   "metadata": {},
   "outputs": [
    {
     "data": {
      "text/plain": [
       "['alhadrah',\n",
       " 'fleming',\n",
       " 'bahrayanfoshy',\n",
       " 'sanstefano',\n",
       " 'laurent',\n",
       " 'victoria',\n",
       " 'hadayekalkobba',\n",
       " 'shatby',\n",
       " 'bolkly',\n",
       " 'agami',\n",
       " 'kabbary',\n",
       " 'smoha',\n",
       " 'zezenia',\n",
       " 'glim',\n",
       " 'sidibeshr',\n",
       " 'gomrok',\n",
       " 'sabapasha',\n",
       " 'amreya',\n",
       " 'miami',\n",
       " 'manshiyya',\n",
       " 'sidigaber',\n",
       " 'talkha',\n",
       " 'cleopatra',\n",
       " 'alibrahimiyyah',\n",
       " 'ramlstation',\n",
       " 'kafrabdo',\n",
       " 'roushdy',\n",
       " 'sporting',\n",
       " 'maamoura',\n",
       " 'stanley',\n",
       " 'montazah',\n",
       " 'asafra',\n",
       " 'aga',\n",
       " 'azarita',\n",
       " 'campcaesar',\n",
       " 'seyouf',\n",
       " 'mandara',\n",
       " 'elmax']"
      ]
     },
     "execution_count": 1346,
     "metadata": {},
     "output_type": "execute_result"
    }
   ],
   "source": [
    "match"
   ]
  },
  {
   "cell_type": "code",
   "execution_count": 1347,
   "id": "5c291084",
   "metadata": {},
   "outputs": [],
   "source": [
    "df=df[df.City.isin(match)]"
   ]
  },
  {
   "cell_type": "code",
   "execution_count": 1348,
   "id": "9799decf",
   "metadata": {},
   "outputs": [
    {
     "data": {
      "text/plain": [
       "array(['campcaesar', 'smoha', 'sidibeshr', 'sporting', 'glim', 'fleming',\n",
       "       'mandara', 'miami', 'hadayekalkobba', 'agami', 'bolkly',\n",
       "       'maamoura', 'seyouf', 'sidigaber', 'laurent', 'alibrahimiyyah',\n",
       "       'cleopatra', 'talkha', 'manshiyya', 'roushdy', 'alhadrah',\n",
       "       'sanstefano', 'bahrayanfoshy', 'asafra', 'sabapasha', 'kafrabdo',\n",
       "       'azarita', 'montazah', 'zezenia', 'shatby', 'stanley', 'amreya',\n",
       "       'gomrok', 'ramlstation', 'victoria', 'elmax', 'aga', 'kabbary'],\n",
       "      dtype=object)"
      ]
     },
     "execution_count": 1348,
     "metadata": {},
     "output_type": "execute_result"
    }
   ],
   "source": [
    "df.City.unique()"
   ]
  },
  {
   "cell_type": "markdown",
   "id": "2d4c32a9",
   "metadata": {},
   "source": [
    "## Data preprocessing"
   ]
  },
  {
   "cell_type": "code",
   "execution_count": 1349,
   "id": "28baa64d",
   "metadata": {},
   "outputs": [],
   "source": [
    "import matplotlib.pyplot as plt\n",
    "import seaborn as sns\n",
    "from sklearn.preprocessing import minmax_scale"
   ]
  },
  {
   "cell_type": "code",
   "execution_count": 1350,
   "id": "25aa8cb4",
   "metadata": {},
   "outputs": [
    {
     "data": {
      "text/html": [
       "<div>\n",
       "<style scoped>\n",
       "    .dataframe tbody tr th:only-of-type {\n",
       "        vertical-align: middle;\n",
       "    }\n",
       "\n",
       "    .dataframe tbody tr th {\n",
       "        vertical-align: top;\n",
       "    }\n",
       "\n",
       "    .dataframe thead th {\n",
       "        text-align: right;\n",
       "    }\n",
       "</style>\n",
       "<table border=\"1\" class=\"dataframe\">\n",
       "  <thead>\n",
       "    <tr style=\"text-align: right;\">\n",
       "      <th></th>\n",
       "      <th>Type</th>\n",
       "      <th>Price</th>\n",
       "      <th>Bedrooms</th>\n",
       "      <th>Bathrooms</th>\n",
       "      <th>Area</th>\n",
       "      <th>Furnished</th>\n",
       "      <th>Level</th>\n",
       "      <th>Compound</th>\n",
       "      <th>Payment_Option</th>\n",
       "      <th>Delivery_Date</th>\n",
       "      <th>Delivery_Term</th>\n",
       "      <th>City</th>\n",
       "    </tr>\n",
       "  </thead>\n",
       "  <tbody>\n",
       "    <tr>\n",
       "      <th>1</th>\n",
       "      <td>Apartment</td>\n",
       "      <td>4000000</td>\n",
       "      <td>3.0</td>\n",
       "      <td>3.0</td>\n",
       "      <td>160.0</td>\n",
       "      <td>No</td>\n",
       "      <td>10+</td>\n",
       "      <td>Unknown</td>\n",
       "      <td>Cash</td>\n",
       "      <td>Ready to move</td>\n",
       "      <td>Finished</td>\n",
       "      <td>campcaesar</td>\n",
       "    </tr>\n",
       "    <tr>\n",
       "      <th>2</th>\n",
       "      <td>Apartment</td>\n",
       "      <td>2250000</td>\n",
       "      <td>3.0</td>\n",
       "      <td>2.0</td>\n",
       "      <td>165.0</td>\n",
       "      <td>No</td>\n",
       "      <td>1</td>\n",
       "      <td>Unknown</td>\n",
       "      <td>Cash</td>\n",
       "      <td>Ready to move</td>\n",
       "      <td>Finished</td>\n",
       "      <td>smoha</td>\n",
       "    </tr>\n",
       "    <tr>\n",
       "      <th>12</th>\n",
       "      <td>Apartment</td>\n",
       "      <td>550000</td>\n",
       "      <td>2.0</td>\n",
       "      <td>1.0</td>\n",
       "      <td>94.0</td>\n",
       "      <td>No</td>\n",
       "      <td>2</td>\n",
       "      <td>Unknown</td>\n",
       "      <td>Cash</td>\n",
       "      <td>Ready to move</td>\n",
       "      <td>Finished</td>\n",
       "      <td>smoha</td>\n",
       "    </tr>\n",
       "    <tr>\n",
       "      <th>13</th>\n",
       "      <td>Apartment</td>\n",
       "      <td>2600000</td>\n",
       "      <td>3.0</td>\n",
       "      <td>2.0</td>\n",
       "      <td>140.0</td>\n",
       "      <td>Yes</td>\n",
       "      <td>10+</td>\n",
       "      <td>Unknown</td>\n",
       "      <td>Cash or Installment</td>\n",
       "      <td>Ready to move</td>\n",
       "      <td>Finished</td>\n",
       "      <td>sidibeshr</td>\n",
       "    </tr>\n",
       "    <tr>\n",
       "      <th>25</th>\n",
       "      <td>Apartment</td>\n",
       "      <td>1730000</td>\n",
       "      <td>3.0</td>\n",
       "      <td>2.0</td>\n",
       "      <td>160.0</td>\n",
       "      <td>No</td>\n",
       "      <td>7</td>\n",
       "      <td>Unknown</td>\n",
       "      <td>Unknown Payment</td>\n",
       "      <td>Unknown</td>\n",
       "      <td>Unknown</td>\n",
       "      <td>smoha</td>\n",
       "    </tr>\n",
       "  </tbody>\n",
       "</table>\n",
       "</div>"
      ],
      "text/plain": [
       "         Type    Price Bedrooms Bathrooms   Area Furnished Level Compound  \\\n",
       "1   Apartment  4000000      3.0       3.0  160.0        No   10+  Unknown   \n",
       "2   Apartment  2250000      3.0       2.0  165.0        No     1  Unknown   \n",
       "12  Apartment   550000      2.0       1.0   94.0        No     2  Unknown   \n",
       "13  Apartment  2600000      3.0       2.0  140.0       Yes   10+  Unknown   \n",
       "25  Apartment  1730000      3.0       2.0  160.0        No     7  Unknown   \n",
       "\n",
       "         Payment_Option  Delivery_Date Delivery_Term        City  \n",
       "1                  Cash  Ready to move      Finished  campcaesar  \n",
       "2                  Cash  Ready to move      Finished       smoha  \n",
       "12                 Cash  Ready to move      Finished       smoha  \n",
       "13  Cash or Installment  Ready to move      Finished   sidibeshr  \n",
       "25      Unknown Payment        Unknown      Unknown        smoha  "
      ]
     },
     "execution_count": 1350,
     "metadata": {},
     "output_type": "execute_result"
    }
   ],
   "source": [
    "df.head()"
   ]
  },
  {
   "cell_type": "code",
   "execution_count": 1351,
   "id": "2750df74",
   "metadata": {},
   "outputs": [
    {
     "data": {
      "text/plain": [
       "(634, 12)"
      ]
     },
     "execution_count": 1351,
     "metadata": {},
     "output_type": "execute_result"
    }
   ],
   "source": [
    "df.shape"
   ]
  },
  {
   "cell_type": "code",
   "execution_count": 1352,
   "id": "83818945",
   "metadata": {},
   "outputs": [
    {
     "data": {
      "text/plain": [
       "4"
      ]
     },
     "execution_count": 1352,
     "metadata": {},
     "output_type": "execute_result"
    }
   ],
   "source": [
    "df.duplicated().sum()"
   ]
  },
  {
   "cell_type": "code",
   "execution_count": 1353,
   "id": "21e6addb",
   "metadata": {},
   "outputs": [],
   "source": [
    "df=df.drop_duplicates()"
   ]
  },
  {
   "cell_type": "code",
   "execution_count": 1354,
   "id": "dba4e062",
   "metadata": {},
   "outputs": [
    {
     "data": {
      "text/plain": [
       "(630, 12)"
      ]
     },
     "execution_count": 1354,
     "metadata": {},
     "output_type": "execute_result"
    }
   ],
   "source": [
    "df.shape"
   ]
  },
  {
   "cell_type": "code",
   "execution_count": 1355,
   "id": "cfeffc41",
   "metadata": {},
   "outputs": [
    {
     "name": "stdout",
     "output_type": "stream",
     "text": [
      "<class 'pandas.core.frame.DataFrame'>\n",
      "Int64Index: 630 entries, 1 to 27064\n",
      "Data columns (total 12 columns):\n",
      " #   Column          Non-Null Count  Dtype \n",
      "---  ------          --------------  ----- \n",
      " 0   Type            630 non-null    object\n",
      " 1   Price           630 non-null    object\n",
      " 2   Bedrooms        626 non-null    object\n",
      " 3   Bathrooms       629 non-null    object\n",
      " 4   Area            627 non-null    object\n",
      " 5   Furnished       630 non-null    object\n",
      " 6   Level           630 non-null    object\n",
      " 7   Compound        630 non-null    object\n",
      " 8   Payment_Option  630 non-null    object\n",
      " 9   Delivery_Date   630 non-null    object\n",
      " 10  Delivery_Term   630 non-null    object\n",
      " 11  City            630 non-null    object\n",
      "dtypes: object(12)\n",
      "memory usage: 64.0+ KB\n"
     ]
    }
   ],
   "source": [
    "df.info()"
   ]
  },
  {
   "cell_type": "code",
   "execution_count": 1356,
   "id": "86bcea28",
   "metadata": {},
   "outputs": [
    {
     "data": {
      "text/html": [
       "<div>\n",
       "<style scoped>\n",
       "    .dataframe tbody tr th:only-of-type {\n",
       "        vertical-align: middle;\n",
       "    }\n",
       "\n",
       "    .dataframe tbody tr th {\n",
       "        vertical-align: top;\n",
       "    }\n",
       "\n",
       "    .dataframe thead th {\n",
       "        text-align: right;\n",
       "    }\n",
       "</style>\n",
       "<table border=\"1\" class=\"dataframe\">\n",
       "  <thead>\n",
       "    <tr style=\"text-align: right;\">\n",
       "      <th></th>\n",
       "      <th>Type</th>\n",
       "      <th>Price</th>\n",
       "      <th>Bedrooms</th>\n",
       "      <th>Bathrooms</th>\n",
       "      <th>Area</th>\n",
       "      <th>Furnished</th>\n",
       "      <th>Level</th>\n",
       "      <th>Compound</th>\n",
       "      <th>Payment_Option</th>\n",
       "      <th>Delivery_Date</th>\n",
       "      <th>Delivery_Term</th>\n",
       "      <th>City</th>\n",
       "    </tr>\n",
       "  </thead>\n",
       "  <tbody>\n",
       "    <tr>\n",
       "      <th>count</th>\n",
       "      <td>630</td>\n",
       "      <td>630</td>\n",
       "      <td>626</td>\n",
       "      <td>629</td>\n",
       "      <td>627</td>\n",
       "      <td>630</td>\n",
       "      <td>630</td>\n",
       "      <td>630</td>\n",
       "      <td>630</td>\n",
       "      <td>630</td>\n",
       "      <td>630</td>\n",
       "      <td>630</td>\n",
       "    </tr>\n",
       "    <tr>\n",
       "      <th>unique</th>\n",
       "      <td>8</td>\n",
       "      <td>230</td>\n",
       "      <td>14</td>\n",
       "      <td>13</td>\n",
       "      <td>166</td>\n",
       "      <td>3</td>\n",
       "      <td>14</td>\n",
       "      <td>15</td>\n",
       "      <td>4</td>\n",
       "      <td>9</td>\n",
       "      <td>5</td>\n",
       "      <td>38</td>\n",
       "    </tr>\n",
       "    <tr>\n",
       "      <th>top</th>\n",
       "      <td>Apartment</td>\n",
       "      <td>1350000</td>\n",
       "      <td>3</td>\n",
       "      <td>1</td>\n",
       "      <td>120.0</td>\n",
       "      <td>No</td>\n",
       "      <td>10+</td>\n",
       "      <td>Unknown</td>\n",
       "      <td>Cash</td>\n",
       "      <td>Ready to move</td>\n",
       "      <td>Finished</td>\n",
       "      <td>smoha</td>\n",
       "    </tr>\n",
       "    <tr>\n",
       "      <th>freq</th>\n",
       "      <td>530</td>\n",
       "      <td>15</td>\n",
       "      <td>267</td>\n",
       "      <td>208</td>\n",
       "      <td>34</td>\n",
       "      <td>462</td>\n",
       "      <td>91</td>\n",
       "      <td>563</td>\n",
       "      <td>420</td>\n",
       "      <td>329</td>\n",
       "      <td>459</td>\n",
       "      <td>127</td>\n",
       "    </tr>\n",
       "  </tbody>\n",
       "</table>\n",
       "</div>"
      ],
      "text/plain": [
       "             Type    Price Bedrooms Bathrooms   Area Furnished Level Compound  \\\n",
       "count         630      630      626       629    627       630   630      630   \n",
       "unique          8      230       14        13    166         3    14       15   \n",
       "top     Apartment  1350000        3         1  120.0        No   10+  Unknown   \n",
       "freq          530       15      267       208     34       462    91      563   \n",
       "\n",
       "       Payment_Option  Delivery_Date Delivery_Term   City  \n",
       "count             630            630           630    630  \n",
       "unique              4              9             5     38  \n",
       "top              Cash  Ready to move      Finished  smoha  \n",
       "freq              420            329           459    127  "
      ]
     },
     "execution_count": 1356,
     "metadata": {},
     "output_type": "execute_result"
    }
   ],
   "source": [
    "df.describe()"
   ]
  },
  {
   "cell_type": "code",
   "execution_count": 1357,
   "id": "5a1a396c",
   "metadata": {},
   "outputs": [
    {
     "data": {
      "text/plain": [
       "Type              0\n",
       "Price             0\n",
       "Bedrooms          4\n",
       "Bathrooms         1\n",
       "Area              3\n",
       "Furnished         0\n",
       "Level             0\n",
       "Compound          0\n",
       "Payment_Option    0\n",
       "Delivery_Date     0\n",
       "Delivery_Term     0\n",
       "City              0\n",
       "dtype: int64"
      ]
     },
     "execution_count": 1357,
     "metadata": {},
     "output_type": "execute_result"
    }
   ],
   "source": [
    "df.isnull().sum()"
   ]
  },
  {
   "cell_type": "markdown",
   "id": "dd22ba7e",
   "metadata": {},
   "source": [
    "### Type"
   ]
  },
  {
   "cell_type": "code",
   "execution_count": 1358,
   "id": "1d952ee0",
   "metadata": {
    "scrolled": true
   },
   "outputs": [
    {
     "data": {
      "text/plain": [
       "array(['Apartment', 'Duplex', 'Standalone Villa', 'Chalet', 'Penthouse',\n",
       "       'Studio', 'Town House', 'Stand Alone Villa'], dtype=object)"
      ]
     },
     "execution_count": 1358,
     "metadata": {},
     "output_type": "execute_result"
    }
   ],
   "source": [
    "df['Type'].unique()"
   ]
  },
  {
   "cell_type": "code",
   "execution_count": 1359,
   "id": "83096dbb",
   "metadata": {},
   "outputs": [],
   "source": [
    "df=df.replace({'Standalone Villa':'Stand Alone Villa'})"
   ]
  },
  {
   "cell_type": "code",
   "execution_count": 1360,
   "id": "aa57e8d2",
   "metadata": {},
   "outputs": [
    {
     "data": {
      "text/plain": [
       "array(['Apartment', 'Duplex', 'Stand Alone Villa', 'Chalet', 'Penthouse',\n",
       "       'Studio', 'Town House'], dtype=object)"
      ]
     },
     "execution_count": 1360,
     "metadata": {},
     "output_type": "execute_result"
    }
   ],
   "source": [
    "df['Type'].unique()"
   ]
  },
  {
   "cell_type": "markdown",
   "id": "a42838b6",
   "metadata": {},
   "source": [
    "### Price"
   ]
  },
  {
   "cell_type": "code",
   "execution_count": 1361,
   "id": "0e4891d9",
   "metadata": {},
   "outputs": [],
   "source": [
    "df['Price']=df['Price'].astype('int')"
   ]
  },
  {
   "cell_type": "markdown",
   "id": "1f454fcd",
   "metadata": {},
   "source": [
    "### Bedrooms and Bathroom"
   ]
  },
  {
   "cell_type": "code",
   "execution_count": 1362,
   "id": "d8966806",
   "metadata": {},
   "outputs": [
    {
     "name": "stdout",
     "output_type": "stream",
     "text": [
      "4\n"
     ]
    }
   ],
   "source": [
    "print(df['Bedrooms'].isnull().sum())"
   ]
  },
  {
   "cell_type": "code",
   "execution_count": 1363,
   "id": "eca0fb64",
   "metadata": {},
   "outputs": [
    {
     "name": "stdout",
     "output_type": "stream",
     "text": [
      "1\n"
     ]
    }
   ],
   "source": [
    "print(df['Bathrooms'].isnull().sum())"
   ]
  },
  {
   "cell_type": "code",
   "execution_count": 1364,
   "id": "db067b80",
   "metadata": {},
   "outputs": [],
   "source": [
    "df2=df.dropna()"
   ]
  },
  {
   "cell_type": "markdown",
   "id": "d15e8028",
   "metadata": {},
   "source": [
    "#### check if there is any linear realtion help me to predict nulls"
   ]
  },
  {
   "cell_type": "code",
   "execution_count": 1365,
   "id": "25667f97",
   "metadata": {},
   "outputs": [
    {
     "data": {
      "text/plain": [
       "1        4000000\n",
       "2        2250000\n",
       "12        550000\n",
       "13       2600000\n",
       "25       1730000\n",
       "          ...   \n",
       "26292    7000000\n",
       "26608    2300000\n",
       "26616    1900000\n",
       "27024    4000000\n",
       "27064    2900000\n",
       "Name: Price, Length: 625, dtype: int32"
      ]
     },
     "execution_count": 1365,
     "metadata": {},
     "output_type": "execute_result"
    }
   ],
   "source": [
    "df2['Bedrooms'].astype('float').astype('int')\n",
    "df2['Area'].astype('float').astype('int')\n",
    "df2['Price'].astype('float').astype('int')"
   ]
  },
  {
   "cell_type": "code",
   "execution_count": 1366,
   "id": "758913ec",
   "metadata": {},
   "outputs": [],
   "source": [
    "df2[['Price','Area','Bedrooms']]=minmax_scale(df2[['Price','Area','Bedrooms']])"
   ]
  },
  {
   "cell_type": "code",
   "execution_count": 1367,
   "id": "450c5c69",
   "metadata": {},
   "outputs": [
    {
     "data": {
      "text/plain": [
       "Text(0, 0.5, 'Bedrooms')"
      ]
     },
     "execution_count": 1367,
     "metadata": {},
     "output_type": "execute_result"
    },
    {
     "data": {
      "image/png": "[encoded data removed]",
      "text/plain": [
       "<Figure size 1080x648 with 1 Axes>"
      ]
     },
     "metadata": {},
     "output_type": "display_data"
    }
   ],
   "source": [
    "plt.scatter(df2['Area'],df2['Bedrooms'])\n",
    "plt.xlabel('Area')\n",
    "plt.ylabel('Bedrooms')"
   ]
  },
  {
   "cell_type": "code",
   "execution_count": 1368,
   "id": "0f3b1a02",
   "metadata": {},
   "outputs": [
    {
     "data": {
      "text/plain": [
       "Text(0, 0.5, 'Bedrooms')"
      ]
     },
     "execution_count": 1368,
     "metadata": {},
     "output_type": "execute_result"
    },
    {
     "data": {
      "image/png": "[encoded data removed]",
      "text/plain": [
       "<Figure size 1080x648 with 1 Axes>"
      ]
     },
     "metadata": {},
     "output_type": "display_data"
    }
   ],
   "source": [
    "plt.scatter(df2['Price'],df2['Bedrooms'])\n",
    "plt.xlabel('Price')\n",
    "plt.ylabel('Bedrooms')"
   ]
  },
  {
   "cell_type": "code",
   "execution_count": 1369,
   "id": "a23053ba",
   "metadata": {},
   "outputs": [
    {
     "data": {
      "image/png": "[encoded data removed]",
      "text/plain": [
       "<Figure size 1080x648 with 2 Axes>"
      ]
     },
     "metadata": {},
     "output_type": "display_data"
    }
   ],
   "source": [
    "sns.heatmap(df2[['Price','Area','Bedrooms']].corr(),annot=True)\n",
    "plt.show()"
   ]
  },
  {
   "cell_type": "markdown",
   "id": "63f8e5ca",
   "metadata": {},
   "source": [
    "#### there no relation so we will drop null"
   ]
  },
  {
   "cell_type": "code",
   "execution_count": 1370,
   "id": "6ef386d6",
   "metadata": {},
   "outputs": [],
   "source": [
    "df=df.dropna(axis=0,subset=['Bedrooms'])"
   ]
  },
  {
   "cell_type": "code",
   "execution_count": 1371,
   "id": "3803550b",
   "metadata": {},
   "outputs": [
    {
     "data": {
      "text/plain": [
       "Type              0\n",
       "Price             0\n",
       "Bedrooms          0\n",
       "Bathrooms         0\n",
       "Area              1\n",
       "Furnished         0\n",
       "Level             0\n",
       "Compound          0\n",
       "Payment_Option    0\n",
       "Delivery_Date     0\n",
       "Delivery_Term     0\n",
       "City              0\n",
       "dtype: int64"
      ]
     },
     "execution_count": 1371,
     "metadata": {},
     "output_type": "execute_result"
    }
   ],
   "source": [
    "df.isnull().sum()"
   ]
  },
  {
   "cell_type": "code",
   "execution_count": 1372,
   "id": "1cb1ab64",
   "metadata": {},
   "outputs": [],
   "source": [
    "df['Bedrooms']=df['Bedrooms'].astype('float').astype('int')"
   ]
  },
  {
   "cell_type": "markdown",
   "id": "f3e46920",
   "metadata": {},
   "source": [
    "### Bathrooms"
   ]
  },
  {
   "cell_type": "code",
   "execution_count": 1373,
   "id": "4232a2d5",
   "metadata": {},
   "outputs": [
    {
     "name": "stdout",
     "output_type": "stream",
     "text": [
      "0\n"
     ]
    }
   ],
   "source": [
    "print(df['Bathrooms'].isnull().sum())"
   ]
  },
  {
   "cell_type": "code",
   "execution_count": 1374,
   "id": "fc3a21f4",
   "metadata": {},
   "outputs": [],
   "source": [
    "df['Bathrooms']=df['Bathrooms'].astype('float').astype('int')"
   ]
  },
  {
   "cell_type": "code",
   "execution_count": 1375,
   "id": "6ac5018a",
   "metadata": {},
   "outputs": [
    {
     "data": {
      "text/plain": [
       "Type              object\n",
       "Price              int32\n",
       "Bedrooms           int32\n",
       "Bathrooms          int32\n",
       "Area              object\n",
       "Furnished         object\n",
       "Level             object\n",
       "Compound          object\n",
       "Payment_Option    object\n",
       "Delivery_Date     object\n",
       "Delivery_Term     object\n",
       "City              object\n",
       "dtype: object"
      ]
     },
     "execution_count": 1375,
     "metadata": {},
     "output_type": "execute_result"
    }
   ],
   "source": [
    "df.dtypes"
   ]
  },
  {
   "cell_type": "markdown",
   "id": "59c75be3",
   "metadata": {},
   "source": [
    "### Area"
   ]
  },
  {
   "cell_type": "code",
   "execution_count": 1376,
   "id": "efd7f683",
   "metadata": {},
   "outputs": [
    {
     "data": {
      "text/plain": [
       "1"
      ]
     },
     "execution_count": 1376,
     "metadata": {},
     "output_type": "execute_result"
    }
   ],
   "source": [
    "df['Area'].isnull().sum()"
   ]
  },
  {
   "cell_type": "code",
   "execution_count": 1377,
   "id": "f4c9070b",
   "metadata": {},
   "outputs": [
    {
     "data": {
      "text/plain": [
       "dtype('O')"
      ]
     },
     "execution_count": 1377,
     "metadata": {},
     "output_type": "execute_result"
    }
   ],
   "source": [
    "df['Area'].dtypes"
   ]
  },
  {
   "cell_type": "code",
   "execution_count": 1378,
   "id": "f787fbb2",
   "metadata": {},
   "outputs": [],
   "source": [
    "df=df.dropna(axis=0,subset=['Area'])"
   ]
  },
  {
   "cell_type": "code",
   "execution_count": 1379,
   "id": "1e2d584e",
   "metadata": {},
   "outputs": [],
   "source": [
    "df['Area']=df['Area'].astype('float').astype('int')"
   ]
  },
  {
   "cell_type": "markdown",
   "id": "e8b0bff8",
   "metadata": {},
   "source": [
    "### Furnished"
   ]
  },
  {
   "cell_type": "code",
   "execution_count": 1380,
   "id": "3dd4d27d",
   "metadata": {},
   "outputs": [
    {
     "data": {
      "text/plain": [
       "array(['No', 'Yes', 'Unknown'], dtype=object)"
      ]
     },
     "execution_count": 1380,
     "metadata": {},
     "output_type": "execute_result"
    }
   ],
   "source": [
    "df['Furnished'].unique()"
   ]
  },
  {
   "cell_type": "markdown",
   "id": "f2acc582",
   "metadata": {},
   "source": [
    "### if number of unknows > 80% drop the column"
   ]
  },
  {
   "cell_type": "code",
   "execution_count": 1381,
   "id": "5df196ff",
   "metadata": {},
   "outputs": [],
   "source": [
    "if (df[(df['Furnished']=='Unknown')].shape[0]/df.shape[0])*100 > 80:\n",
    "    df=df.drop('Furnished',axis=1)"
   ]
  },
  {
   "cell_type": "markdown",
   "id": "815c2938",
   "metadata": {},
   "source": [
    "### we will try to predict if it Furnished or not using Delivery_Date and Delivery_term"
   ]
  },
  {
   "cell_type": "code",
   "execution_count": 1382,
   "id": "b0063f6f",
   "metadata": {},
   "outputs": [],
   "source": [
    "df2=df.dropna()"
   ]
  },
  {
   "cell_type": "code",
   "execution_count": 1383,
   "id": "faab2d63",
   "metadata": {},
   "outputs": [],
   "source": [
    "df2['Delivery_Date']=df2['Delivery_Date'].astype('category')       \n",
    "df2['Delivery_Term']=df2['Delivery_Term'].astype('category')\n",
    "df2['Furnished']=df2['Furnished'].astype('category')"
   ]
  },
  {
   "cell_type": "code",
   "execution_count": 1384,
   "id": "663718d4",
   "metadata": {},
   "outputs": [
    {
     "data": {
      "text/plain": [
       "['No', 'Yes', 'Unknown']\n",
       "Categories (3, object): ['No', 'Unknown', 'Yes']"
      ]
     },
     "execution_count": 1384,
     "metadata": {},
     "output_type": "execute_result"
    }
   ],
   "source": [
    "df2['Furnished'].unique()"
   ]
  },
  {
   "cell_type": "code",
   "execution_count": 1385,
   "id": "fb87aff2",
   "metadata": {},
   "outputs": [
    {
     "data": {
      "text/plain": [
       "['Ready to move', 'Unknown', 'soon', '2023', '2024', '2025', 'within 6 months', '2022', '2026']\n",
       "Categories (9, object): ['2022', '2023', '2024', '2025', ..., 'Ready to move', 'Unknown', 'soon', 'within 6 months']"
      ]
     },
     "execution_count": 1385,
     "metadata": {},
     "output_type": "execute_result"
    }
   ],
   "source": [
    "df2['Delivery_Date'].unique()"
   ]
  },
  {
   "cell_type": "code",
   "execution_count": 1386,
   "id": "a91b511c",
   "metadata": {},
   "outputs": [
    {
     "data": {
      "text/plain": [
       "['Finished', 'Unknown ', 'Not Finished', 'Core & Shell', 'Semi Finished']\n",
       "Categories (5, object): ['Core & Shell', 'Finished', 'Not Finished', 'Semi Finished', 'Unknown ']"
      ]
     },
     "execution_count": 1386,
     "metadata": {},
     "output_type": "execute_result"
    }
   ],
   "source": [
    "df2['Delivery_Term'].unique()"
   ]
  },
  {
   "cell_type": "code",
   "execution_count": 1387,
   "id": "b463e1a9",
   "metadata": {},
   "outputs": [],
   "source": [
    "df2=df2[( (df2['Furnished'] !='Unknown') & (df2['Delivery_Date']!='Unknown') & (df2['Delivery_Term']!='Unknown ')  )]"
   ]
  },
  {
   "cell_type": "code",
   "execution_count": 1388,
   "id": "bf45526f",
   "metadata": {},
   "outputs": [
    {
     "name": "stdout",
     "output_type": "stream",
     "text": [
      "              precision    recall  f1-score   support\n",
      "\n",
      "          No       0.94      0.28      0.44        60\n",
      "         Yes       0.10      0.83      0.19         6\n",
      "\n",
      "    accuracy                           0.33        66\n",
      "   macro avg       0.52      0.56      0.31        66\n",
      "weighted avg       0.87      0.33      0.41        66\n",
      "\n"
     ]
    },
    {
     "data": {
      "image/png": "[encoded data removed]",
      "text/plain": [
       "<Figure size 1080x648 with 2 Axes>"
      ]
     },
     "metadata": {},
     "output_type": "display_data"
    }
   ],
   "source": [
    "from sklearn.model_selection import train_test_split\n",
    "from sklearn.neighbors import KNeighborsClassifier\n",
    "from sklearn.metrics import classification_report,confusion_matrix\n",
    "from imblearn.over_sampling import RandomOverSampler\n",
    "\n",
    "X = df2[['Delivery_Date', 'Delivery_Term']]  # Features: Delivery date and delivery term\n",
    "y = df2['Furnished']  # Labels: Furnished or not\n",
    "\n",
    "X_encoded = pd.get_dummies(X)  # One-hot encoding\n",
    "\n",
    "X_train, X_test, y_train, y_test = train_test_split(X_encoded, y, test_size=0.2, random_state=42)\n",
    "\n",
    "ros = RandomOverSampler(random_state=0) # to solve imblanaced problem\n",
    "X_train_resampled, y_train_resampled = ros.fit_resample(X_train, y_train)\n",
    "\n",
    "Knn = KNeighborsClassifier()\n",
    "\n",
    "Knn.fit(X_train_resampled, y_train_resampled )\n",
    "\n",
    "\n",
    "\n",
    "y_pred = classifier.predict(X_test)\n",
    "\n",
    "matrix=confusion_matrix(y_test, y_pred)\n",
    "report = classification_report(y_test, y_pred)\n",
    "\n",
    "ax= plt.subplot()\n",
    "sns.heatmap(matrix, annot=True, fmt='g', ax=ax);  \n",
    "\n",
    "ax.set_xlabel('Predicted labels');ax.set_ylabel('True labels'); \n",
    "ax.set_title('Confusion Matrix'); \n",
    "ax.xaxis.set_ticklabels(['NO', 'yes']); ax.yaxis.set_ticklabels(['no', 'yes']);\n",
    "\n",
    "print(report)\n"
   ]
  },
  {
   "cell_type": "markdown",
   "id": "2e21085f",
   "metadata": {},
   "source": [
    "### low accuracy we will not use this technique we will replace all unknowns with No because it's the common value"
   ]
  },
  {
   "cell_type": "code",
   "execution_count": 1389,
   "id": "4ce52158",
   "metadata": {},
   "outputs": [],
   "source": [
    "df['Furnished']=df['Furnished'].replace({'Unknown':'No'})"
   ]
  },
  {
   "cell_type": "markdown",
   "id": "efc9e5ce",
   "metadata": {},
   "source": [
    "## Level"
   ]
  },
  {
   "cell_type": "code",
   "execution_count": 1390,
   "id": "24a621d3",
   "metadata": {},
   "outputs": [
    {
     "data": {
      "text/plain": [
       "array(['10+', '1', '2', '7', '4', '5', '10', '3', '8', '6', '9',\n",
       "       'Highest', 'Ground', 'Unknown'], dtype=object)"
      ]
     },
     "execution_count": 1390,
     "metadata": {},
     "output_type": "execute_result"
    }
   ],
   "source": [
    "df['Level'].unique()"
   ]
  },
  {
   "cell_type": "code",
   "execution_count": 1391,
   "id": "ee1adeec",
   "metadata": {},
   "outputs": [],
   "source": [
    "if (df[(df['Level']=='Unknown')].shape[0]/df.shape[0])*100 > 80:\n",
    "    df=df.drop('Level',axis=1)"
   ]
  },
  {
   "cell_type": "markdown",
   "id": "640dbfb5",
   "metadata": {},
   "source": [
    "### we will replace\n",
    "* '10+' --> 11\n",
    "* 'Highest' --> 12\n",
    "* 'Ground' --> 0\n",
    "* 'Unknown' --> np.nan"
   ]
  },
  {
   "cell_type": "code",
   "execution_count": 1392,
   "id": "40e2ab28",
   "metadata": {},
   "outputs": [],
   "source": [
    "df['Level']=df['Level'].replace({'10+':11})\n",
    "df['Level']=df['Level'].replace({'Highest':12})\n",
    "df['Level']=df['Level'].replace({'Ground':0})\n",
    "df['Level']=df['Level'].replace({'Unknown':np.nan})"
   ]
  },
  {
   "cell_type": "markdown",
   "id": "0cf77ab7",
   "metadata": {},
   "source": [
    "## Compound"
   ]
  },
  {
   "cell_type": "markdown",
   "id": "8fd83dfb",
   "metadata": {},
   "source": [
    "### if number of unknows > 80% drop the column"
   ]
  },
  {
   "cell_type": "code",
   "execution_count": 1393,
   "id": "14e0123f",
   "metadata": {},
   "outputs": [],
   "source": [
    "if (df[(df['Compound']=='Unknown')].shape[0]/df.shape[0])*100 > 80:\n",
    "    df=df.drop('Compound',axis=1)"
   ]
  },
  {
   "cell_type": "code",
   "execution_count": 1394,
   "id": "b51e2be8",
   "metadata": {},
   "outputs": [
    {
     "data": {
      "text/plain": [
       "Type              object\n",
       "Price              int32\n",
       "Bedrooms           int32\n",
       "Bathrooms          int32\n",
       "Area               int32\n",
       "Furnished         object\n",
       "Level             object\n",
       "Payment_Option    object\n",
       "Delivery_Date     object\n",
       "Delivery_Term     object\n",
       "City              object\n",
       "dtype: object"
      ]
     },
     "execution_count": 1394,
     "metadata": {},
     "output_type": "execute_result"
    }
   ],
   "source": [
    "df.dtypes"
   ]
  },
  {
   "cell_type": "markdown",
   "id": "11b9c741",
   "metadata": {},
   "source": [
    "## Payment_Option"
   ]
  },
  {
   "cell_type": "code",
   "execution_count": 1395,
   "id": "8496fb66",
   "metadata": {},
   "outputs": [
    {
     "data": {
      "text/plain": [
       "0"
      ]
     },
     "execution_count": 1395,
     "metadata": {},
     "output_type": "execute_result"
    }
   ],
   "source": [
    "df['Payment_Option'].isnull().sum()"
   ]
  },
  {
   "cell_type": "code",
   "execution_count": 1396,
   "id": "cf34ae9d",
   "metadata": {},
   "outputs": [
    {
     "data": {
      "text/plain": [
       "array(['Cash', 'Cash or Installment', 'Unknown Payment', 'Installment'],\n",
       "      dtype=object)"
      ]
     },
     "execution_count": 1396,
     "metadata": {},
     "output_type": "execute_result"
    }
   ],
   "source": [
    "df['Payment_Option'].unique()"
   ]
  },
  {
   "cell_type": "code",
   "execution_count": 1397,
   "id": "6ad190e6",
   "metadata": {},
   "outputs": [],
   "source": [
    "df['Payment_Option']=df['Payment_Option'].replace({'Unknown Payment': 'Cash or Installment'})"
   ]
  },
  {
   "cell_type": "markdown",
   "id": "e6ac2a49",
   "metadata": {},
   "source": [
    "## Delivery_Term"
   ]
  },
  {
   "cell_type": "code",
   "execution_count": 1398,
   "id": "08bb8744",
   "metadata": {},
   "outputs": [
    {
     "data": {
      "text/plain": [
       "0"
      ]
     },
     "execution_count": 1398,
     "metadata": {},
     "output_type": "execute_result"
    }
   ],
   "source": [
    "df['Delivery_Term'].isnull().sum()"
   ]
  },
  {
   "cell_type": "code",
   "execution_count": 1399,
   "id": "176601a8",
   "metadata": {},
   "outputs": [
    {
     "data": {
      "text/plain": [
       "array(['Finished', 'Unknown ', 'Not Finished', 'Core & Shell',\n",
       "       'Semi Finished'], dtype=object)"
      ]
     },
     "execution_count": 1399,
     "metadata": {},
     "output_type": "execute_result"
    }
   ],
   "source": [
    "df['Delivery_Term'].unique()"
   ]
  },
  {
   "cell_type": "code",
   "execution_count": 1400,
   "id": "c7bd7a21",
   "metadata": {},
   "outputs": [],
   "source": [
    "df= df[( (df['Delivery_Date'] != 'Unknown') | (df['Delivery_Term'] != 'Unknown ') )]"
   ]
  },
  {
   "cell_type": "code",
   "execution_count": 1401,
   "id": "2f6771df",
   "metadata": {},
   "outputs": [
    {
     "data": {
      "text/plain": [
       "41"
      ]
     },
     "execution_count": 1401,
     "metadata": {},
     "output_type": "execute_result"
    }
   ],
   "source": [
    "df[(df['Delivery_Term']=='Unknown ')].shape[0]"
   ]
  },
  {
   "cell_type": "code",
   "execution_count": 1402,
   "id": "dc5cc6fc",
   "metadata": {},
   "outputs": [],
   "source": [
    "for i in df['Furnished']:\n",
    "    if i =='Yes':\n",
    "        df['Delivery_Term']=df['Delivery_Term'].replace({'Unknown ':'Finished'})\n",
    "    else:\n",
    "        df['Delivery_Term']=df['Delivery_Term'].replace({'Unknown ':'Not Finished'})"
   ]
  },
  {
   "cell_type": "code",
   "execution_count": 1403,
   "id": "a2fc653a",
   "metadata": {},
   "outputs": [
    {
     "data": {
      "text/plain": [
       "0"
      ]
     },
     "execution_count": 1403,
     "metadata": {},
     "output_type": "execute_result"
    }
   ],
   "source": [
    "df[(df['Delivery_Term']=='Unknown ')].shape[0]"
   ]
  },
  {
   "cell_type": "markdown",
   "id": "7f50e40b",
   "metadata": {},
   "source": [
    "## Delivery_Date"
   ]
  },
  {
   "cell_type": "code",
   "execution_count": 1404,
   "id": "ad3883b7",
   "metadata": {},
   "outputs": [
    {
     "data": {
      "text/plain": [
       "0"
      ]
     },
     "execution_count": 1404,
     "metadata": {},
     "output_type": "execute_result"
    }
   ],
   "source": [
    "df['Delivery_Date'].isnull().sum()"
   ]
  },
  {
   "cell_type": "code",
   "execution_count": 1405,
   "id": "5a798635",
   "metadata": {},
   "outputs": [
    {
     "data": {
      "text/plain": [
       "array(['Ready to move', 'Unknown', 'soon', '2023', '2024', '2025',\n",
       "       'within 6 months', '2022', '2026'], dtype=object)"
      ]
     },
     "execution_count": 1405,
     "metadata": {},
     "output_type": "execute_result"
    }
   ],
   "source": [
    "df['Delivery_Date'].unique()"
   ]
  },
  {
   "cell_type": "code",
   "execution_count": 1406,
   "id": "bde90daa",
   "metadata": {},
   "outputs": [],
   "source": [
    "if (df[(df['Delivery_Date']=='Unknown')].shape[0]/df.shape[0])*100 > 80:\n",
    "    df=df.drop('Delivery_Date',axis=1)"
   ]
  },
  {
   "cell_type": "code",
   "execution_count": 1407,
   "id": "0b128d3b",
   "metadata": {},
   "outputs": [],
   "source": [
    "for i in df['Delivery_Term']:\n",
    "    if i =='Finished':\n",
    "        df['Delivery_Date']=df['Delivery_Date'].replace({'Unknown':'Ready to move'})\n",
    "    else:\n",
    "        df['Delivery_Date']=df['Delivery_Date'].replace({'Unknown':'soon'})"
   ]
  },
  {
   "cell_type": "code",
   "execution_count": 1408,
   "id": "b3e80b94",
   "metadata": {},
   "outputs": [
    {
     "data": {
      "text/plain": [
       "0"
      ]
     },
     "execution_count": 1408,
     "metadata": {},
     "output_type": "execute_result"
    }
   ],
   "source": [
    "df[(df['Delivery_Date']=='Unknown')].shape[0]"
   ]
  },
  {
   "cell_type": "markdown",
   "id": "4a1ee2fb",
   "metadata": {},
   "source": [
    "## Data is clean now"
   ]
  },
  {
   "cell_type": "code",
   "execution_count": 1409,
   "id": "389cbd48",
   "metadata": {},
   "outputs": [
    {
     "data": {
      "text/html": [
       "<div>\n",
       "<style scoped>\n",
       "    .dataframe tbody tr th:only-of-type {\n",
       "        vertical-align: middle;\n",
       "    }\n",
       "\n",
       "    .dataframe tbody tr th {\n",
       "        vertical-align: top;\n",
       "    }\n",
       "\n",
       "    .dataframe thead th {\n",
       "        text-align: right;\n",
       "    }\n",
       "</style>\n",
       "<table border=\"1\" class=\"dataframe\">\n",
       "  <thead>\n",
       "    <tr style=\"text-align: right;\">\n",
       "      <th></th>\n",
       "      <th>Type</th>\n",
       "      <th>Price</th>\n",
       "      <th>Bedrooms</th>\n",
       "      <th>Bathrooms</th>\n",
       "      <th>Area</th>\n",
       "      <th>Furnished</th>\n",
       "      <th>Level</th>\n",
       "      <th>Payment_Option</th>\n",
       "      <th>Delivery_Date</th>\n",
       "      <th>Delivery_Term</th>\n",
       "      <th>City</th>\n",
       "    </tr>\n",
       "  </thead>\n",
       "  <tbody>\n",
       "    <tr>\n",
       "      <th>1</th>\n",
       "      <td>Apartment</td>\n",
       "      <td>4000000</td>\n",
       "      <td>3</td>\n",
       "      <td>3</td>\n",
       "      <td>160</td>\n",
       "      <td>No</td>\n",
       "      <td>11</td>\n",
       "      <td>Cash</td>\n",
       "      <td>Ready to move</td>\n",
       "      <td>Finished</td>\n",
       "      <td>campcaesar</td>\n",
       "    </tr>\n",
       "    <tr>\n",
       "      <th>2</th>\n",
       "      <td>Apartment</td>\n",
       "      <td>2250000</td>\n",
       "      <td>3</td>\n",
       "      <td>2</td>\n",
       "      <td>165</td>\n",
       "      <td>No</td>\n",
       "      <td>1</td>\n",
       "      <td>Cash</td>\n",
       "      <td>Ready to move</td>\n",
       "      <td>Finished</td>\n",
       "      <td>smoha</td>\n",
       "    </tr>\n",
       "    <tr>\n",
       "      <th>12</th>\n",
       "      <td>Apartment</td>\n",
       "      <td>550000</td>\n",
       "      <td>2</td>\n",
       "      <td>1</td>\n",
       "      <td>94</td>\n",
       "      <td>No</td>\n",
       "      <td>2</td>\n",
       "      <td>Cash</td>\n",
       "      <td>Ready to move</td>\n",
       "      <td>Finished</td>\n",
       "      <td>smoha</td>\n",
       "    </tr>\n",
       "    <tr>\n",
       "      <th>13</th>\n",
       "      <td>Apartment</td>\n",
       "      <td>2600000</td>\n",
       "      <td>3</td>\n",
       "      <td>2</td>\n",
       "      <td>140</td>\n",
       "      <td>Yes</td>\n",
       "      <td>11</td>\n",
       "      <td>Cash or Installment</td>\n",
       "      <td>Ready to move</td>\n",
       "      <td>Finished</td>\n",
       "      <td>sidibeshr</td>\n",
       "    </tr>\n",
       "    <tr>\n",
       "      <th>48</th>\n",
       "      <td>Apartment</td>\n",
       "      <td>1750000</td>\n",
       "      <td>3</td>\n",
       "      <td>2</td>\n",
       "      <td>160</td>\n",
       "      <td>No</td>\n",
       "      <td>5</td>\n",
       "      <td>Cash</td>\n",
       "      <td>Ready to move</td>\n",
       "      <td>Finished</td>\n",
       "      <td>glim</td>\n",
       "    </tr>\n",
       "  </tbody>\n",
       "</table>\n",
       "</div>"
      ],
      "text/plain": [
       "         Type    Price  Bedrooms  Bathrooms  Area Furnished Level  \\\n",
       "1   Apartment  4000000         3          3   160        No    11   \n",
       "2   Apartment  2250000         3          2   165        No     1   \n",
       "12  Apartment   550000         2          1    94        No     2   \n",
       "13  Apartment  2600000         3          2   140       Yes    11   \n",
       "48  Apartment  1750000         3          2   160        No     5   \n",
       "\n",
       "         Payment_Option  Delivery_Date Delivery_Term        City  \n",
       "1                  Cash  Ready to move      Finished  campcaesar  \n",
       "2                  Cash  Ready to move      Finished       smoha  \n",
       "12                 Cash  Ready to move      Finished       smoha  \n",
       "13  Cash or Installment  Ready to move      Finished   sidibeshr  \n",
       "48                 Cash  Ready to move      Finished        glim  "
      ]
     },
     "execution_count": 1409,
     "metadata": {},
     "output_type": "execute_result"
    }
   ],
   "source": [
    "df.head()"
   ]
  },
  {
   "cell_type": "code",
   "execution_count": 1410,
   "id": "2e5b2e59",
   "metadata": {},
   "outputs": [
    {
     "data": {
      "text/plain": [
       "(545, 11)"
      ]
     },
     "execution_count": 1410,
     "metadata": {},
     "output_type": "execute_result"
    }
   ],
   "source": [
    "df.shape"
   ]
  },
  {
   "cell_type": "code",
   "execution_count": 1411,
   "id": "a400bcb0",
   "metadata": {},
   "outputs": [
    {
     "name": "stdout",
     "output_type": "stream",
     "text": [
      "<class 'pandas.core.frame.DataFrame'>\n",
      "Int64Index: 545 entries, 1 to 27064\n",
      "Data columns (total 11 columns):\n",
      " #   Column          Non-Null Count  Dtype \n",
      "---  ------          --------------  ----- \n",
      " 0   Type            545 non-null    object\n",
      " 1   Price           545 non-null    int32 \n",
      " 2   Bedrooms        545 non-null    int32 \n",
      " 3   Bathrooms       545 non-null    int32 \n",
      " 4   Area            545 non-null    int32 \n",
      " 5   Furnished       545 non-null    object\n",
      " 6   Level           505 non-null    object\n",
      " 7   Payment_Option  545 non-null    object\n",
      " 8   Delivery_Date   545 non-null    object\n",
      " 9   Delivery_Term   545 non-null    object\n",
      " 10  City            545 non-null    object\n",
      "dtypes: int32(4), object(7)\n",
      "memory usage: 42.6+ KB\n"
     ]
    }
   ],
   "source": [
    "df.info()"
   ]
  },
  {
   "cell_type": "code",
   "execution_count": 1412,
   "id": "657f6768",
   "metadata": {},
   "outputs": [
    {
     "data": {
      "text/html": [
       "<div>\n",
       "<style scoped>\n",
       "    .dataframe tbody tr th:only-of-type {\n",
       "        vertical-align: middle;\n",
       "    }\n",
       "\n",
       "    .dataframe tbody tr th {\n",
       "        vertical-align: top;\n",
       "    }\n",
       "\n",
       "    .dataframe thead th {\n",
       "        text-align: right;\n",
       "    }\n",
       "</style>\n",
       "<table border=\"1\" class=\"dataframe\">\n",
       "  <thead>\n",
       "    <tr style=\"text-align: right;\">\n",
       "      <th></th>\n",
       "      <th>Price</th>\n",
       "      <th>Bedrooms</th>\n",
       "      <th>Bathrooms</th>\n",
       "      <th>Area</th>\n",
       "    </tr>\n",
       "  </thead>\n",
       "  <tbody>\n",
       "    <tr>\n",
       "      <th>count</th>\n",
       "      <td>5.450000e+02</td>\n",
       "      <td>545.000000</td>\n",
       "      <td>545.000000</td>\n",
       "      <td>545.000000</td>\n",
       "    </tr>\n",
       "    <tr>\n",
       "      <th>mean</th>\n",
       "      <td>2.389893e+06</td>\n",
       "      <td>2.891743</td>\n",
       "      <td>1.902752</td>\n",
       "      <td>173.319266</td>\n",
       "    </tr>\n",
       "    <tr>\n",
       "      <th>std</th>\n",
       "      <td>2.664625e+06</td>\n",
       "      <td>0.924158</td>\n",
       "      <td>0.956639</td>\n",
       "      <td>102.652885</td>\n",
       "    </tr>\n",
       "    <tr>\n",
       "      <th>min</th>\n",
       "      <td>8.700000e+04</td>\n",
       "      <td>1.000000</td>\n",
       "      <td>1.000000</td>\n",
       "      <td>40.000000</td>\n",
       "    </tr>\n",
       "    <tr>\n",
       "      <th>25%</th>\n",
       "      <td>7.900000e+05</td>\n",
       "      <td>2.000000</td>\n",
       "      <td>1.000000</td>\n",
       "      <td>111.000000</td>\n",
       "    </tr>\n",
       "    <tr>\n",
       "      <th>50%</th>\n",
       "      <td>1.650000e+06</td>\n",
       "      <td>3.000000</td>\n",
       "      <td>2.000000</td>\n",
       "      <td>145.000000</td>\n",
       "    </tr>\n",
       "    <tr>\n",
       "      <th>75%</th>\n",
       "      <td>3.000000e+06</td>\n",
       "      <td>3.000000</td>\n",
       "      <td>2.000000</td>\n",
       "      <td>205.000000</td>\n",
       "    </tr>\n",
       "    <tr>\n",
       "      <th>max</th>\n",
       "      <td>2.166800e+07</td>\n",
       "      <td>8.000000</td>\n",
       "      <td>7.000000</td>\n",
       "      <td>800.000000</td>\n",
       "    </tr>\n",
       "  </tbody>\n",
       "</table>\n",
       "</div>"
      ],
      "text/plain": [
       "              Price    Bedrooms   Bathrooms        Area\n",
       "count  5.450000e+02  545.000000  545.000000  545.000000\n",
       "mean   2.389893e+06    2.891743    1.902752  173.319266\n",
       "std    2.664625e+06    0.924158    0.956639  102.652885\n",
       "min    8.700000e+04    1.000000    1.000000   40.000000\n",
       "25%    7.900000e+05    2.000000    1.000000  111.000000\n",
       "50%    1.650000e+06    3.000000    2.000000  145.000000\n",
       "75%    3.000000e+06    3.000000    2.000000  205.000000\n",
       "max    2.166800e+07    8.000000    7.000000  800.000000"
      ]
     },
     "execution_count": 1412,
     "metadata": {},
     "output_type": "execute_result"
    }
   ],
   "source": [
    "df.describe()"
   ]
  },
  {
   "cell_type": "markdown",
   "id": "73a2c30c",
   "metadata": {},
   "source": [
    "## visualization"
   ]
  },
  {
   "cell_type": "code",
   "execution_count": 1413,
   "id": "633a808d",
   "metadata": {},
   "outputs": [],
   "source": [
    "import matplotlib.pyplot as plt\n",
    "sns.set(rc={'figure.figsize': [15, 9]}, font_scale=1.3)"
   ]
  },
  {
   "cell_type": "code",
   "execution_count": 1414,
   "id": "c7e4c45b",
   "metadata": {},
   "outputs": [
    {
     "data": {
      "image/png": "[encoded data removed]",
      "text/plain": [
       "<Figure size 1080x648 with 1 Axes>"
      ]
     },
     "metadata": {},
     "output_type": "display_data"
    }
   ],
   "source": [
    "p1 =df.groupby('City')['Price'].mean()[-11:-1].sort_values(ascending=False)\n",
    "p1.plot.barh()\n",
    "plt.title('The neighborhoods With The Higher Buildings Price');\n",
    "plt.show()"
   ]
  },
  {
   "cell_type": "code",
   "execution_count": 1415,
   "id": "0d6faeb8",
   "metadata": {},
   "outputs": [
    {
     "data": {
      "image/png": "[encoded data removed]",
      "text/plain": [
       "<Figure size 1080x648 with 1 Axes>"
      ]
     },
     "metadata": {},
     "output_type": "display_data"
    }
   ],
   "source": [
    "p2=df.groupby('Type')['Price'].mean()[-11:-1].sort_values(ascending=False)\n",
    "p2.plot.barh()\n",
    "plt.title('Most Expensive Property Type Building')\n",
    "plt.show()"
   ]
  },
  {
   "cell_type": "code",
   "execution_count": 1416,
   "id": "2f9659a8",
   "metadata": {},
   "outputs": [
    {
     "data": {
      "image/png": "[encoded data removed]",
      "text/plain": [
       "<Figure size 1080x648 with 1 Axes>"
      ]
     },
     "metadata": {},
     "output_type": "display_data"
    }
   ],
   "source": [
    "lpb = df.groupby('Type')['Bedrooms'].mean().sort_values()\n",
    "sns.barplot(y=lpb.index,x=lpb.values);\n",
    "plt.title('Property With Mean Bed Room Number');"
   ]
  },
  {
   "cell_type": "code",
   "execution_count": 1417,
   "id": "6d75c2dc",
   "metadata": {},
   "outputs": [
    {
     "data": {
      "image/png": "[encoded data removed]",
      "text/plain": [
       "<Figure size 1080x648 with 1 Axes>"
      ]
     },
     "metadata": {},
     "output_type": "display_data"
    }
   ],
   "source": [
    "df['Furnished'].value_counts().plot(kind='pie');"
   ]
  },
  {
   "cell_type": "code",
   "execution_count": 1418,
   "id": "7000a92e",
   "metadata": {},
   "outputs": [
    {
     "data": {
      "image/png": "[encoded data removed]",
      "text/plain": [
       "<Figure size 1080x648 with 1 Axes>"
      ]
     },
     "metadata": {},
     "output_type": "display_data"
    }
   ],
   "source": [
    "df.groupby('Furnished')['Price'].mean().sort_values().plot(kind='pie');"
   ]
  },
  {
   "cell_type": "code",
   "execution_count": 1419,
   "id": "0cbf943a",
   "metadata": {},
   "outputs": [
    {
     "data": {
      "image/png": "[encoded data removed]",
      "text/plain": [
       "<Figure size 1080x648 with 1 Axes>"
      ]
     },
     "metadata": {},
     "output_type": "display_data"
    }
   ],
   "source": [
    "ind=(df.groupby('City')['Price'].sum()/df.groupby('City')['Area'].sum()).sort_values(ascending=False)[0:30].index\n",
    "vlu=(df.groupby('City')['Price'].sum()/df.groupby('City')['Area'].sum()).sort_values(ascending=False)[0:30].values\n",
    "sns.barplot(data = df, x = ind ,y= vlu ,ci = None,order = ind);\n",
    "plt.xticks(rotation=90);\n",
    "plt.title('The neighborhoods With The 1 Meter^2 Price');"
   ]
  },
  {
   "cell_type": "markdown",
   "id": "d7146152",
   "metadata": {},
   "source": [
    "## Building model"
   ]
  },
  {
   "cell_type": "code",
   "execution_count": 1433,
   "id": "1e978ba5",
   "metadata": {},
   "outputs": [],
   "source": [
    "#Algorithms\n",
    "from sklearn.linear_model import LinearRegression\n",
    "from sklearn.neighbors import KNeighborsClassifier\n",
    "from sklearn.linear_model import Ridge\n",
    "from sklearn.tree import DecisionTreeRegressor\n",
    "from sklearn.ensemble import RandomForestRegressor\n",
    "\n",
    "\n",
    "#Tuning\n",
    "from sklearn.model_selection import GridSearchCV\n",
    "from sklearn.model_selection import RandomizedSearchCV\n",
    "\n",
    "#Metrics\n",
    "from sklearn.metrics import r2_score\n",
    "from sklearn.metrics import mean_squared_error\n",
    "from sklearn.metrics import mean_absolute_error"
   ]
  },
  {
   "cell_type": "code",
   "execution_count": 1420,
   "id": "e2c4923a",
   "metadata": {},
   "outputs": [
    {
     "data": {
      "text/html": [
       "<div>\n",
       "<style scoped>\n",
       "    .dataframe tbody tr th:only-of-type {\n",
       "        vertical-align: middle;\n",
       "    }\n",
       "\n",
       "    .dataframe tbody tr th {\n",
       "        vertical-align: top;\n",
       "    }\n",
       "\n",
       "    .dataframe thead th {\n",
       "        text-align: right;\n",
       "    }\n",
       "</style>\n",
       "<table border=\"1\" class=\"dataframe\">\n",
       "  <thead>\n",
       "    <tr style=\"text-align: right;\">\n",
       "      <th></th>\n",
       "      <th>Type</th>\n",
       "      <th>Price</th>\n",
       "      <th>Bedrooms</th>\n",
       "      <th>Bathrooms</th>\n",
       "      <th>Area</th>\n",
       "      <th>Furnished</th>\n",
       "      <th>Level</th>\n",
       "      <th>Payment_Option</th>\n",
       "      <th>Delivery_Date</th>\n",
       "      <th>Delivery_Term</th>\n",
       "      <th>City</th>\n",
       "    </tr>\n",
       "  </thead>\n",
       "  <tbody>\n",
       "    <tr>\n",
       "      <th>1</th>\n",
       "      <td>Apartment</td>\n",
       "      <td>4000000</td>\n",
       "      <td>3</td>\n",
       "      <td>3</td>\n",
       "      <td>160</td>\n",
       "      <td>No</td>\n",
       "      <td>11</td>\n",
       "      <td>Cash</td>\n",
       "      <td>Ready to move</td>\n",
       "      <td>Finished</td>\n",
       "      <td>campcaesar</td>\n",
       "    </tr>\n",
       "    <tr>\n",
       "      <th>2</th>\n",
       "      <td>Apartment</td>\n",
       "      <td>2250000</td>\n",
       "      <td>3</td>\n",
       "      <td>2</td>\n",
       "      <td>165</td>\n",
       "      <td>No</td>\n",
       "      <td>1</td>\n",
       "      <td>Cash</td>\n",
       "      <td>Ready to move</td>\n",
       "      <td>Finished</td>\n",
       "      <td>smoha</td>\n",
       "    </tr>\n",
       "    <tr>\n",
       "      <th>12</th>\n",
       "      <td>Apartment</td>\n",
       "      <td>550000</td>\n",
       "      <td>2</td>\n",
       "      <td>1</td>\n",
       "      <td>94</td>\n",
       "      <td>No</td>\n",
       "      <td>2</td>\n",
       "      <td>Cash</td>\n",
       "      <td>Ready to move</td>\n",
       "      <td>Finished</td>\n",
       "      <td>smoha</td>\n",
       "    </tr>\n",
       "    <tr>\n",
       "      <th>13</th>\n",
       "      <td>Apartment</td>\n",
       "      <td>2600000</td>\n",
       "      <td>3</td>\n",
       "      <td>2</td>\n",
       "      <td>140</td>\n",
       "      <td>Yes</td>\n",
       "      <td>11</td>\n",
       "      <td>Cash or Installment</td>\n",
       "      <td>Ready to move</td>\n",
       "      <td>Finished</td>\n",
       "      <td>sidibeshr</td>\n",
       "    </tr>\n",
       "    <tr>\n",
       "      <th>48</th>\n",
       "      <td>Apartment</td>\n",
       "      <td>1750000</td>\n",
       "      <td>3</td>\n",
       "      <td>2</td>\n",
       "      <td>160</td>\n",
       "      <td>No</td>\n",
       "      <td>5</td>\n",
       "      <td>Cash</td>\n",
       "      <td>Ready to move</td>\n",
       "      <td>Finished</td>\n",
       "      <td>glim</td>\n",
       "    </tr>\n",
       "    <tr>\n",
       "      <th>...</th>\n",
       "      <td>...</td>\n",
       "      <td>...</td>\n",
       "      <td>...</td>\n",
       "      <td>...</td>\n",
       "      <td>...</td>\n",
       "      <td>...</td>\n",
       "      <td>...</td>\n",
       "      <td>...</td>\n",
       "      <td>...</td>\n",
       "      <td>...</td>\n",
       "      <td>...</td>\n",
       "    </tr>\n",
       "    <tr>\n",
       "      <th>25894</th>\n",
       "      <td>Stand Alone Villa</td>\n",
       "      <td>14200000</td>\n",
       "      <td>6</td>\n",
       "      <td>4</td>\n",
       "      <td>310</td>\n",
       "      <td>No</td>\n",
       "      <td>NaN</td>\n",
       "      <td>Installment</td>\n",
       "      <td>2024</td>\n",
       "      <td>Finished</td>\n",
       "      <td>smoha</td>\n",
       "    </tr>\n",
       "    <tr>\n",
       "      <th>26174</th>\n",
       "      <td>Stand Alone Villa</td>\n",
       "      <td>2500000</td>\n",
       "      <td>3</td>\n",
       "      <td>2</td>\n",
       "      <td>218</td>\n",
       "      <td>No</td>\n",
       "      <td>NaN</td>\n",
       "      <td>Cash or Installment</td>\n",
       "      <td>Ready to move</td>\n",
       "      <td>Finished</td>\n",
       "      <td>smoha</td>\n",
       "    </tr>\n",
       "    <tr>\n",
       "      <th>26292</th>\n",
       "      <td>Stand Alone Villa</td>\n",
       "      <td>7000000</td>\n",
       "      <td>5</td>\n",
       "      <td>5</td>\n",
       "      <td>388</td>\n",
       "      <td>No</td>\n",
       "      <td>NaN</td>\n",
       "      <td>Cash</td>\n",
       "      <td>Ready to move</td>\n",
       "      <td>Finished</td>\n",
       "      <td>amreya</td>\n",
       "    </tr>\n",
       "    <tr>\n",
       "      <th>27024</th>\n",
       "      <td>Stand Alone Villa</td>\n",
       "      <td>4000000</td>\n",
       "      <td>4</td>\n",
       "      <td>5</td>\n",
       "      <td>500</td>\n",
       "      <td>No</td>\n",
       "      <td>NaN</td>\n",
       "      <td>Cash</td>\n",
       "      <td>Ready to move</td>\n",
       "      <td>Finished</td>\n",
       "      <td>amreya</td>\n",
       "    </tr>\n",
       "    <tr>\n",
       "      <th>27064</th>\n",
       "      <td>Stand Alone Villa</td>\n",
       "      <td>2900000</td>\n",
       "      <td>3</td>\n",
       "      <td>3</td>\n",
       "      <td>605</td>\n",
       "      <td>Yes</td>\n",
       "      <td>NaN</td>\n",
       "      <td>Cash</td>\n",
       "      <td>Ready to move</td>\n",
       "      <td>Finished</td>\n",
       "      <td>agami</td>\n",
       "    </tr>\n",
       "  </tbody>\n",
       "</table>\n",
       "<p>545 rows × 11 columns</p>\n",
       "</div>"
      ],
      "text/plain": [
       "                    Type     Price  Bedrooms  Bathrooms  Area Furnished Level  \\\n",
       "1              Apartment   4000000         3          3   160        No    11   \n",
       "2              Apartment   2250000         3          2   165        No     1   \n",
       "12             Apartment    550000         2          1    94        No     2   \n",
       "13             Apartment   2600000         3          2   140       Yes    11   \n",
       "48             Apartment   1750000         3          2   160        No     5   \n",
       "...                  ...       ...       ...        ...   ...       ...   ...   \n",
       "25894  Stand Alone Villa  14200000         6          4   310        No   NaN   \n",
       "26174  Stand Alone Villa   2500000         3          2   218        No   NaN   \n",
       "26292  Stand Alone Villa   7000000         5          5   388        No   NaN   \n",
       "27024  Stand Alone Villa   4000000         4          5   500        No   NaN   \n",
       "27064  Stand Alone Villa   2900000         3          3   605       Yes   NaN   \n",
       "\n",
       "            Payment_Option  Delivery_Date Delivery_Term        City  \n",
       "1                     Cash  Ready to move      Finished  campcaesar  \n",
       "2                     Cash  Ready to move      Finished       smoha  \n",
       "12                    Cash  Ready to move      Finished       smoha  \n",
       "13     Cash or Installment  Ready to move      Finished   sidibeshr  \n",
       "48                    Cash  Ready to move      Finished        glim  \n",
       "...                    ...            ...           ...         ...  \n",
       "25894          Installment           2024      Finished       smoha  \n",
       "26174  Cash or Installment  Ready to move      Finished       smoha  \n",
       "26292                 Cash  Ready to move      Finished      amreya  \n",
       "27024                 Cash  Ready to move      Finished      amreya  \n",
       "27064                 Cash  Ready to move      Finished       agami  \n",
       "\n",
       "[545 rows x 11 columns]"
      ]
     },
     "execution_count": 1420,
     "metadata": {},
     "output_type": "execute_result"
    }
   ],
   "source": [
    "df"
   ]
  },
  {
   "cell_type": "code",
   "execution_count": 1421,
   "id": "3180b3fc",
   "metadata": {},
   "outputs": [],
   "source": [
    "x=df[['Type','Furnished','Level','Payment_Option','Delivery_Date','Delivery_Term','City']]\n",
    "y=df['Price']"
   ]
  },
  {
   "cell_type": "code",
   "execution_count": 1422,
   "id": "acfcaa4f",
   "metadata": {},
   "outputs": [],
   "source": [
    "X_encoded = pd.get_dummies(x) "
   ]
  },
  {
   "cell_type": "code",
   "execution_count": 1423,
   "id": "f80969a7",
   "metadata": {},
   "outputs": [],
   "source": [
    "X_encoded.insert(0,'Bedrooms',df['Bedrooms'])\n",
    "X_encoded.insert(0,'Area',df['Area'])\n",
    "X_encoded.insert(0,'Bathrooms',df['Bathrooms'])"
   ]
  },
  {
   "cell_type": "code",
   "execution_count": 1429,
   "id": "0b41b55c",
   "metadata": {},
   "outputs": [
    {
     "data": {
      "text/plain": [
       "((408, 78), (137, 78), (408,), (137,))"
      ]
     },
     "execution_count": 1429,
     "metadata": {},
     "output_type": "execute_result"
    }
   ],
   "source": [
    "from sklearn.model_selection import train_test_split\n",
    "X_train,X_test, y_train,y_test = train_test_split(X_encoded,y,test_size = 0.25,shuffle = True ,random_state = 404)\n",
    "\n",
    "X_train.shape,X_test.shape,y_train.shape,y_test.shape"
   ]
  },
  {
   "cell_type": "code",
   "execution_count": 1430,
   "id": "62b48442",
   "metadata": {},
   "outputs": [],
   "source": [
    "def performance(model,X_train,y_train,y_pred,y_test):\n",
    "    '''\n",
    "    This function for calculating the performance of the model.\n",
    "    INPUT:\n",
    "    model: Regression Model. The regression model.\n",
    "    x_train: numpy.ndarray. The training data in the x.\n",
    "    y_train: pandas.core.series.Series. The training data in the y.\n",
    "    y_pred: numpy.ndarray. The predicted data.\n",
    "    y_test: pandas.core.series.Series. The actual data.\n",
    "    OUTPUT:\n",
    "    The model performance by different metrics.\n",
    "    '''\n",
    "    print('Training Score:',model.score(X_train,y_train))\n",
    "    print('Testing Score:',r2_score(y_test,y_pred))\n",
    "    print('Other Metrics In Testing Data: ')\n",
    "    print('MSE:',mean_squared_error(y_test,y_pred))\n",
    "    print('MAE:',mean_absolute_error(y_test,y_pred))"
   ]
  },
  {
   "cell_type": "code",
   "execution_count": 1434,
   "id": "34b07d5e",
   "metadata": {},
   "outputs": [],
   "source": [
    "#Fitting the model\n",
    "lr = LinearRegression()\n",
    "lr.fit(X_train,y_train)\n",
    "\n",
    "#The predicted data\n",
    "lr_pred = lr.predict(X_test)"
   ]
  },
  {
   "cell_type": "code",
   "execution_count": 1435,
   "id": "24599304",
   "metadata": {},
   "outputs": [
    {
     "name": "stdout",
     "output_type": "stream",
     "text": [
      "Training Score: 0.7507463784678091\n",
      "Testing Score: 0.4545512602048106\n",
      "Other Metrics In Testing Data: \n",
      "MSE: 1810071244970.7969\n",
      "MAE: 912645.204477613\n"
     ]
    }
   ],
   "source": [
    "performance(lr,X_train,y_train,lr_pred,y_test)"
   ]
  },
  {
   "cell_type": "code",
   "execution_count": 1436,
   "id": "215bed10",
   "metadata": {},
   "outputs": [
    {
     "name": "stdout",
     "output_type": "stream",
     "text": [
      "Training Score: 0.9999739025828878\n",
      "Testing Score: 0.22539476374117484\n",
      "Other Metrics In Testing Data: \n",
      "MSE: 2570526911259.124\n",
      "MAE: 814027.3722627737\n"
     ]
    }
   ],
   "source": [
    "#Fitting the model\n",
    "dt = DecisionTreeRegressor()\n",
    "dt.fit(X_train,y_train)\n",
    "\n",
    "#The predicted data\n",
    "dt_pred = dt.predict(X_test)\n",
    "\n",
    "#The performance\n",
    "performance(dt,X_train,y_train,dt_pred,y_test)"
   ]
  },
  {
   "cell_type": "code",
   "execution_count": 1438,
   "id": "7992d896",
   "metadata": {},
   "outputs": [
    {
     "name": "stdout",
     "output_type": "stream",
     "text": [
      "Training Score: 0.9595425353699194\n",
      "Testing Score: 0.689645734079962\n",
      "Other Metrics In Testing Data: \n",
      "MSE: 1029910404975.5756\n",
      "MAE: 594508.2877719847\n"
     ]
    }
   ],
   "source": [
    "#Fitting the model\n",
    "rf = RandomForestRegressor()\n",
    "rf.fit(X_train,y_train.values.ravel())\n",
    "\n",
    "#The predicted data\n",
    "rf_pred = rf.predict(X_test)\n",
    "\n",
    "#The performance\n",
    "performance(rf,X_train,y_train,rf_pred,y_test)"
   ]
  },
  {
   "cell_type": "markdown",
   "id": "fceb3f1e",
   "metadata": {},
   "source": [
    "#### there is overfitting in model"
   ]
  }
 ],
 "metadata": {
  "kernelspec": {
   "display_name": "Python 3 (ipykernel)",
   "language": "python",
   "name": "python3"
  },
  "language_info": {
   "codemirror_mode": {
    "name": "ipython",
    "version": 3
   },
   "file_extension": ".py",
   "mimetype": "text/x-python",
   "name": "python",
   "nbconvert_exporter": "python",
   "pygments_lexer": "ipython3",
   "version": "3.9.7"
  }
 },
 "nbformat": 4,
 "nbformat_minor": 5
}
